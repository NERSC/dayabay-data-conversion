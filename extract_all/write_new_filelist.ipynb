{
 "cells": [
  {
   "cell_type": "code",
   "execution_count": 1,
   "metadata": {
    "collapsed": true
   },
   "outputs": [],
   "source": [
    "import os\n",
    "import sys\n",
    "import numpy as np\n",
    "import itertools\n",
    "import pickle as pkl\n",
    "import h5py"
   ]
  },
  {
   "cell_type": "markdown",
   "metadata": {
    "collapsed": true
   },
   "source": [
    "## Access Issues\n",
    "Two Directories have files that can't be accessed: \n",
    "\n",
    "* **/project/projectdirs/dayabay/data/exp/dayabay/2013/p14a/**\n",
    "    * has some empty directories\n",
    "    * these seem to all be regenerated in /project/projectdirs/dayabay/data/exp/dayabay/2013/p15a/Neutrino/\n",
    "\n",
    "* **/project/projectdirs/dayabay/data/exp/dayabay/2012/p14a**\n",
    "    * sym links to /global/projecta/projectdirs/dayabay/data/exp/dayabay/2012/p14a\n",
    "    * permission denied\n",
    "    \n",
    "## Solution\n",
    "All unfound files except /project/projectdirs/dayabay/data/exp/dayabay/2012/p14a/Neutrino/1105/recon.Neutrino.0034955.Physics.EH3-Merged.P14A-P._0025.root can be found in /project/projectdirs/dayabay/data/exp/dayabay/year/p15a\n"
   ]
  },
  {
   "cell_type": "code",
   "execution_count": 2,
   "metadata": {
    "collapsed": true
   },
   "outputs": [],
   "source": [
    "def get_id(file_string):\n",
    "    fs_split = file_string.split('.')\n",
    "    return fs_split[2] + fs_split[6] + fs_split[4]"
   ]
  },
  {
   "cell_type": "code",
   "execution_count": 3,
   "metadata": {
    "collapsed": true
   },
   "outputs": [],
   "source": [
    "def get_filepaths(directory,filter_fxn=None):\n",
    "    \"\"\"\n",
    "    This function will generate the file names in a directory \n",
    "    tree by walking the tree either top-down or bottom-up. For each \n",
    "    directory in the tree rooted at directory top (including top itself), \n",
    "    it yields a 3-tuple (dirpath, dirnames, filenames). Only takes files that make\n",
    "    filter_fxn evaluate to true\n",
    "    \"\"\"\n",
    "    file_paths = []  # List which will store all of the full filepaths.\n",
    "\n",
    "    # Walk the tree.\n",
    "    for root, directories, files in os.walk(directory):\n",
    "        for filename in files:\n",
    "            if filter_fxn is not None:\n",
    "                if not filter_fxn(filename):\n",
    "                    continue\n",
    "            # Join the two strings in order to form the full filepath.\n",
    "            filepath = os.path.join(root, filename)\n",
    "            file_paths.append(filepath)  # Add it to the list.\n",
    "\n",
    "    return file_paths  # Self-explanatory."
   ]
  },
  {
   "cell_type": "code",
   "execution_count": 5,
   "metadata": {
    "collapsed": true
   },
   "outputs": [],
   "source": [
    "def get_eh(rootfile):\n",
    "    fs_split = rootfile.split('.')\n",
    "    return fs_split[4].split('-')[0]"
   ]
  },
  {
   "cell_type": "code",
   "execution_count": 4,
   "metadata": {
    "collapsed": true
   },
   "outputs": [],
   "source": [
    "with open(\"./FileList-6Oct-Official-1\") as f:\n",
    "    content = [x.strip('\\n') for x in f.readlines()]\n",
    "with(open(\"./FileList-6Oct-Official-2\")) as f:\n",
    "    content2 = [x.strip('\\n') for x in f.readlines()]\n",
    "new_content = content + content2\n",
    "new_content = list(set(new_content))"
   ]
  },
  {
   "cell_type": "code",
   "execution_count": 52,
   "metadata": {
    "collapsed": false
   },
   "outputs": [
    {
     "name": "stdout",
     "output_type": "stream",
     "text": [
      "official list 1 has 189159 elemeents, official list 2 has 118961 elements. Their sum is 308120 and the set of the union has 308120 elements\n"
     ]
    }
   ],
   "source": [
    "print \"official list 1 has %i elemeents, official list \\\n",
    "2 has %i elements. Their sum is %i and the set of the union has %i elements\" %\\\n",
    "(len(content), len(content2), len(content) + len(content2),  len(new_content))"
   ]
  },
  {
   "cell_type": "code",
   "execution_count": 6,
   "metadata": {
    "collapsed": true
   },
   "outputs": [],
   "source": [
    "eh1 = [c for c in new_content if get_eh(c) == 'EH1' ]"
   ]
  },
  {
   "cell_type": "code",
   "execution_count": 7,
   "metadata": {
    "collapsed": false
   },
   "outputs": [
    {
     "data": {
      "text/plain": [
       "137544"
      ]
     },
     "execution_count": 7,
     "metadata": {},
     "output_type": "execute_result"
    }
   ],
   "source": [
    "len(eh1)"
   ]
  },
  {
   "cell_type": "code",
   "execution_count": 74,
   "metadata": {
    "collapsed": true
   },
   "outputs": [],
   "source": [
    "old_content = content\n",
    "content = new_content\n"
   ]
  },
  {
   "cell_type": "code",
   "execution_count": 54,
   "metadata": {
    "collapsed": true
   },
   "outputs": [],
   "source": [
    "#list of files in content that can cannot be read\n",
    "cant = [ f for f in content if not os.path.exists(f) ]\n",
    "can = [ f for f in content if os.path.exists(f) ]"
   ]
  },
  {
   "cell_type": "code",
   "execution_count": 57,
   "metadata": {
    "collapsed": false
   },
   "outputs": [
    {
     "name": "stdout",
     "output_type": "stream",
     "text": [
      "/project/projectdirs/dayabay/data/exp/dayabay/2012/p14a/Neutrino/0103/recon.Neutrino.0021367.Physics.EH1-Merged.P14A-P._0092.root\n",
      "/project/projectdirs/dayabay/data/exp/dayabay/2013/p14a/Neutrino/0422/recon.Neutrino.0038701.Physics.EH1-Merged.P14A-P._0026.root\n",
      "261585\n",
      "46535\n"
     ]
    }
   ],
   "source": [
    "print can[0]\n",
    "print cant[1]\n",
    "print len(cant)\n",
    "print len(can)"
   ]
  },
  {
   "cell_type": "code",
   "execution_count": 8,
   "metadata": {
    "collapsed": false
   },
   "outputs": [
    {
     "name": "stdout",
     "output_type": "stream",
     "text": [
      "I cant read fies from these years ['2014', '2013', '2012']\n"
     ]
    }
   ],
   "source": [
    "print \"I cant read fies from these years %s\" % str(list(set([c.split('/')[7] for c in cant ])))"
   ]
  },
  {
   "cell_type": "code",
   "execution_count": 58,
   "metadata": {
    "collapsed": true
   },
   "outputs": [],
   "source": [
    "can_ids = [get_id(c) for c in can]\n",
    "cant_ids = [get_id(c) for c in cant]"
   ]
  },
  {
   "cell_type": "code",
   "execution_count": 59,
   "metadata": {
    "collapsed": false
   },
   "outputs": [
    {
     "name": "stdout",
     "output_type": "stream",
     "text": [
      "0021367_0092EH1-Merged\n"
     ]
    }
   ],
   "source": [
    "print can_ids[0]"
   ]
  },
  {
   "cell_type": "code",
   "execution_count": 11,
   "metadata": {
    "collapsed": true
   },
   "outputs": [],
   "source": [
    "new_2013 = '/project/projectdirs/dayabay/data/exp/dayabay/2013/p15a/Neutrino/'\n",
    "new_2012 =  '/project/projectdirs/dayabay/data/exp/dayabay/2012/p15a/Neutrino/'\n",
    "new_2014 = '/project/projectdirs/dayabay/data/exp/dayabay/2014/p15a/Neutrino/'"
   ]
  },
  {
   "cell_type": "code",
   "execution_count": 76,
   "metadata": {
    "collapsed": false
   },
   "outputs": [],
   "source": [
    "new_files_2012 = get_filepaths(new_2012,lambda f: '.root' in f) \n",
    "new_files_2013 = get_filepaths(new_2013,lambda f: '.root' in f) \n",
    "new_files_2014 = get_filepaths(new_2014,lambda f: '.root' in f) "
   ]
  },
  {
   "cell_type": "code",
   "execution_count": 77,
   "metadata": {
    "collapsed": true
   },
   "outputs": [],
   "source": [
    "new_files = new_files_2013 + new_files_2012 + new_files_2014 "
   ]
  },
  {
   "cell_type": "code",
   "execution_count": 79,
   "metadata": {
    "collapsed": false
   },
   "outputs": [],
   "source": [
    "new_files[100000]\n",
    "#can[0]\n",
    "\n"
   ]
  },
  {
   "cell_type": "code",
   "execution_count": 80,
   "metadata": {
    "collapsed": false
   },
   "outputs": [
    {
     "name": "stdout",
     "output_type": "stream",
     "text": [
      "[]\n"
     ]
    }
   ],
   "source": [
    "print xml"
   ]
  },
  {
   "cell_type": "code",
   "execution_count": 81,
   "metadata": {
    "collapsed": true
   },
   "outputs": [],
   "source": [
    "new_ids = {get_id(fil): fil for fil in new_files}"
   ]
  },
  {
   "cell_type": "code",
   "execution_count": 82,
   "metadata": {
    "collapsed": true
   },
   "outputs": [],
   "source": [
    "cant_dict = {get_id(f): f for f in cant}"
   ]
  },
  {
   "cell_type": "code",
   "execution_count": 83,
   "metadata": {
    "collapsed": false
   },
   "outputs": [
    {
     "name": "stdout",
     "output_type": "stream",
     "text": [
      "Number of files I can't read: 261585, total recoveredthat were needed in p15a: 261585. recov that I could already read anyway 44123 \n",
      "Total files on list: 308120, Total files recovered from 2012,2013,2014: 314147, Files recov not on list: 8439\n",
      "file not recovered:  []\n",
      "308120\n",
      "314144\n"
     ]
    }
   ],
   "source": [
    "num_cant = len(cant)\n",
    "num_no_need_to_recov = len(set(can_ids).intersection(set(new_ids.keys())))\n",
    "\n",
    "recov = list(set(cant_ids).intersection(set(new_ids.keys())))\n",
    "num_recov = len(recov)\n",
    "not_recovered = list(set(cant_ids).difference(set(new_ids.keys())))\n",
    "print \"Number of files I can't read: %i, total recoveredthat were needed in p15a: %i. recov that I could already read anyway %i \" % (num_cant, num_recov, num_no_need_to_recov)\n",
    "print \"Total files on list: %i, Total files recovered from 2012,2013,2014: \\\n",
    "%i, Files recov not on list: %i\" % (len(content), len(new_files), len(new_files) - num_recov - num_no_need_to_recov)\n",
    "#print not_recovered\n",
    "files_not_recovered = [f for f in cant if get_id(f) in not_recovered]\n",
    "print \"file not recovered: \", files_not_recovered\n",
    "print len(content)\n",
    "print len(new_ids)"
   ]
  },
  {
   "cell_type": "code",
   "execution_count": 84,
   "metadata": {
    "collapsed": false
   },
   "outputs": [],
   "source": [
    "files_recovered =  [new_ids[f_id] for f_id in recov]"
   ]
  },
  {
   "cell_type": "code",
   "execution_count": 85,
   "metadata": {
    "collapsed": false
   },
   "outputs": [
    {
     "data": {
      "text/plain": [
       "261585"
      ]
     },
     "execution_count": 85,
     "metadata": {},
     "output_type": "execute_result"
    }
   ],
   "source": [
    "len(files_recovered)"
   ]
  },
  {
   "cell_type": "code",
   "execution_count": 86,
   "metadata": {
    "collapsed": true
   },
   "outputs": [],
   "source": [
    "new_official_list = files_recovered + can"
   ]
  },
  {
   "cell_type": "code",
   "execution_count": 87,
   "metadata": {
    "collapsed": false
   },
   "outputs": [
    {
     "data": {
      "text/plain": [
       "308120"
      ]
     },
     "execution_count": 87,
     "metadata": {},
     "output_type": "execute_result"
    }
   ],
   "source": [
    "len(new_official_list)"
   ]
  },
  {
   "cell_type": "code",
   "execution_count": 88,
   "metadata": {
    "collapsed": false
   },
   "outputs": [],
   "source": [
    "with open('./FileList-14Mar-Recovered-1-2', 'w') as f:\n",
    "    for item in new_official_list:\n",
    "        f.write(\"%s\\n\" % item)"
   ]
  },
  {
   "cell_type": "code",
   "execution_count": 89,
   "metadata": {
    "collapsed": false
   },
   "outputs": [
    {
     "name": "stdout",
     "output_type": "stream",
     "text": [
      "FileList-14Mar-Recovered-1-2  extract_background.ipynb\r\n",
      "FileList-6Oct-Official-1      makedataset_withtime.py\r\n",
      "FileList-6Oct-Official-2      write_new_filelist.ipynb\r\n"
     ]
    }
   ],
   "source": [
    "!ls\n"
   ]
  },
  {
   "cell_type": "code",
   "execution_count": 90,
   "metadata": {
    "collapsed": true
   },
   "outputs": [],
   "source": [
    "with open('./FileList-14Mar-Recovered-1-2', 'r') as f:\n",
    "    test_content = [x.strip('\\n') for x in f.readlines()]"
   ]
  },
  {
   "cell_type": "code",
   "execution_count": 91,
   "metadata": {
    "collapsed": false
   },
   "outputs": [],
   "source": [
    "for i, c in enumerate(test_content):\n",
    "    assert test_content[i] == new_official_list[i], \"Ahhh sopmething went wrong!\""
   ]
  },
  {
   "cell_type": "code",
   "execution_count": null,
   "metadata": {
    "collapsed": true
   },
   "outputs": [],
   "source": []
  }
 ],
 "metadata": {
  "kernelspec": {
   "display_name": "Python 2",
   "language": "python",
   "name": "python2"
  },
  "language_info": {
   "codemirror_mode": {
    "name": "ipython",
    "version": 2
   },
   "file_extension": ".py",
   "mimetype": "text/x-python",
   "name": "python",
   "nbconvert_exporter": "python",
   "pygments_lexer": "ipython2",
   "version": "2.7.11"
  }
 },
 "nbformat": 4,
 "nbformat_minor": 0
}

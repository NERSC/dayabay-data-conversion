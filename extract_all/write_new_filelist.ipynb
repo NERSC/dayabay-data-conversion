{
 "cells": [
  {
   "cell_type": "code",
   "execution_count": 6,
   "metadata": {
    "collapsed": true
   },
   "outputs": [],
   "source": [
    "import os\n",
    "import sys\n",
    "import numpy as np\n",
    "import itertools\n",
    "import pickle as pkl\n",
    "import h5py"
   ]
  },
  {
   "cell_type": "code",
   "execution_count": null,
   "metadata": {
    "collapsed": false
   },
   "outputs": [
    {
     "name": "stdout",
     "output_type": "stream",
     "text": [
      "0101  0127  0222  0320\t0415  0511  0606  0703\t0729  0824  0919  1015\t1110\r\n",
      "0102  0128  0223  0321\t0416  0512  0607  0704\t0730  0825  0920  1016\t1111\r\n",
      "0103  0129  0224  0322\t0417  0513  0608  0705\t0731  0826  0921  1017\t1112\r\n",
      "0104  0130  0225  0323\t0418  0514  0609  0706\t0801  0827  0922  1018\t1113\r\n",
      "0105  0131  0226  0324\t0419  0515  0610  0707\t0802  0828  0923  1019\t1114\r\n",
      "0106  0201  0227  0325\t0420  0516  0611  0708\t0803  0829  0924  1020\t1115\r\n",
      "0107  0202  0228  0326\t0421  0517  0612  0709\t0804  0830  0925  1021\t1116\r\n",
      "0108  0203  0301  0327\t0422  0518  0613  0710\t0805  0831  0926  1022\t1117\r\n",
      "0109  0204  0302  0328\t0423  0519  0614  0711\t0806  0901  0927  1023\t1118\r\n",
      "0110  0205  0303  0329\t0424  0520  0615  0712\t0807  0902  0928  1024\t1119\r\n",
      "0111  0206  0304  0330\t0425  0521  0616  0713\t0808  0903  0929  1025\t1120\r\n",
      "0112  0207  0305  0331\t0426  0522  0617  0714\t0809  0904  0930  1026\t1121\r\n",
      "0113  0208  0306  0401\t0427  0523  0618  0715\t0810  0905  1001  1027\t1122\r\n",
      "0114  0209  0307  0402\t0428  0524  0619  0716\t0811  0906  1002  1028\t1123\r\n",
      "0115  0210  0308  0403\t0429  0525  0620  0717\t0812  0907  1003  1029\t1124\r\n",
      "0116  0211  0309  0404\t0430  0526  0621  0718\t0813  0908  1004  1030\t1125\r\n",
      "0117  0212  0310  0405\t0501  0527  0622  0719\t0814  0909  1005  1031\t1126\r\n",
      "0118  0213  0311  0406\t0502  0528  0623  0720\t0815  0910  1006  1101\t1127\r\n",
      "0119  0214  0312  0407\t0503  0529  0624  0721\t0816  0911  1007  1102\t1128\r\n",
      "0120  0215  0313  0408\t0504  0530  0625  0722\t0817  0912  1008  1103\t1129\r\n",
      "0121  0216  0314  0409\t0505  0531  0626  0723\t0818  0913  1009  1104\t1130\r\n",
      "0122  0217  0315  0410\t0506  0601  0627  0724\t0819  0914  1010  1105\r\n",
      "0123  0218  0316  0411\t0507  0602  0628  0725\t0820  0915  1011  1106\r\n",
      "0124  0219  0317  0412\t0508  0603  0630  0726\t0821  0916  1012  1107\r\n",
      "0125  0220  0318  0413\t0509  0604  0701  0727\t0822  0917  1013  1108\r\n",
      "0126  0221  0319  0414\t0510  0605  0702  0728\t0823  0918  1014  1109\r\n"
     ]
    }
   ],
   "source": [
    "!ls /global/project/projectdirs/dayabay/data/exp/dayabay/2014/p14b/Neutrino"
   ]
  },
  {
   "cell_type": "markdown",
   "metadata": {
    "collapsed": true
   },
   "source": [
    "## Access Issues\n",
    "Two Directories have files that can't be accessed: \n",
    "\n",
    "* **/project/projectdirs/dayabay/data/exp/dayabay/2013/p14a/**\n",
    "    * has some empty directories\n",
    "    * these seem to all be regenerated in /project/projectdirs/dayabay/data/exp/dayabay/2013/p15a/Neutrino/\n",
    "\n",
    "* **/project/projectdirs/dayabay/data/exp/dayabay/2012/p14a**\n",
    "    * sym links to /global/projecta/projectdirs/dayabay/data/exp/dayabay/2012/p14a\n",
    "    * permission denied\n",
    "    \n",
    "## Solution\n",
    "All unfound files except /project/projectdirs/dayabay/data/exp/dayabay/2012/p14a/Neutrino/1105/recon.Neutrino.0034955.Physics.EH3-Merged.P14A-P._0025.root can be found in /project/projectdirs/dayabay/data/exp/dayabay/year/p15a\n"
   ]
  },
  {
   "cell_type": "code",
   "execution_count": 7,
   "metadata": {
    "collapsed": true
   },
   "outputs": [],
   "source": [
    "def get_id(file_string):\n",
    "    fs_split = file_string.split('.')\n",
    "    return fs_split[2] + fs_split[6] + fs_split[4]"
   ]
  },
  {
   "cell_type": "code",
   "execution_count": 8,
   "metadata": {
    "collapsed": true
   },
   "outputs": [],
   "source": [
    "def get_filepaths(directory,filter_fxn=None):\n",
    "    \"\"\"\n",
    "    This function will generate the file names in a directory \n",
    "    tree by walking the tree either top-down or bottom-up. For each \n",
    "    directory in the tree rooted at directory top (including top itself), \n",
    "    it yields a 3-tuple (dirpath, dirnames, filenames). Only takes files that make\n",
    "    filter_fxn evaluate to true\n",
    "    \"\"\"\n",
    "    file_paths = []  # List which will store all of the full filepaths.\n",
    "\n",
    "    # Walk the tree.\n",
    "    for root, directories, files in os.walk(directory):\n",
    "        for filename in files:\n",
    "            if filter_fxn is not None:\n",
    "                if not filter_fxn(filename):\n",
    "                    continue\n",
    "            # Join the two strings in order to form the full filepath.\n",
    "            filepath = os.path.join(root, filename)\n",
    "            file_paths.append(filepath)  # Add it to the list.\n",
    "\n",
    "    return file_paths  # Self-explanatory."
   ]
  },
  {
   "cell_type": "code",
   "execution_count": 9,
   "metadata": {
    "collapsed": true
   },
   "outputs": [],
   "source": [
    "def get_eh(rootfile):\n",
    "    fs_split = rootfile.split('.')\n",
    "    return fs_split[4].split('-')[0]"
   ]
  },
  {
   "cell_type": "code",
   "execution_count": 10,
   "metadata": {
    "collapsed": true
   },
   "outputs": [],
   "source": [
    "with open(\"./FileList-6Oct-Official-1\") as f:\n",
    "    content = [x.strip('\\n') for x in f.readlines()]\n",
    "with(open(\"./FileList-6Oct-Official-2\")) as f:\n",
    "    content2 = [x.strip('\\n') for x in f.readlines()]\n",
    "new_content = content + content2\n",
    "new_content = list(set(new_content))"
   ]
  },
  {
   "cell_type": "code",
   "execution_count": 11,
   "metadata": {
    "collapsed": false
   },
   "outputs": [
    {
     "name": "stdout",
     "output_type": "stream",
     "text": [
      "official list 1 has 189159 elemeents, official list 2 has 118961 elements. Their sum is 308120 and the set of the union has 308120 elements\n"
     ]
    }
   ],
   "source": [
    "print \"official list 1 has %i elemeents, official list \\\n",
    "2 has %i elements. Their sum is %i and the set of the union has %i elements\" %\\\n",
    "(len(content), len(content2), len(content) + len(content2),  len(new_content))"
   ]
  },
  {
   "cell_type": "code",
   "execution_count": 12,
   "metadata": {
    "collapsed": false
   },
   "outputs": [],
   "source": [
    "eh1 = [c for c in new_content if get_eh(c) == 'EH1' ]"
   ]
  },
  {
   "cell_type": "code",
   "execution_count": 13,
   "metadata": {
    "collapsed": false
   },
   "outputs": [
    {
     "data": {
      "text/plain": [
       "137544"
      ]
     },
     "execution_count": 13,
     "metadata": {},
     "output_type": "execute_result"
    }
   ],
   "source": [
    "len(eh1)"
   ]
  },
  {
   "cell_type": "code",
   "execution_count": 14,
   "metadata": {
    "collapsed": true
   },
   "outputs": [],
   "source": [
    "old_content = content\n",
    "content = new_content\n"
   ]
  },
  {
   "cell_type": "code",
   "execution_count": 15,
   "metadata": {
    "collapsed": false
   },
   "outputs": [],
   "source": [
    "#list of files in content that can cannot be read\n",
    "cant = [ f for f in content if not os.path.exists(f) ]\n",
    "can = [ f for f in content if os.path.exists(f) ]"
   ]
  },
  {
   "cell_type": "code",
   "execution_count": 11,
   "metadata": {
    "collapsed": false
   },
   "outputs": [
    {
     "name": "stdout",
     "output_type": "stream",
     "text": [
      "/project/projectdirs/dayabay/data/exp/dayabay/2012/p14a/Neutrino/0103/recon.Neutrino.0021367.Physics.EH1-Merged.P14A-P._0092.root\n",
      "/project/projectdirs/dayabay/data/exp/dayabay/2013/p14a/Neutrino/0422/recon.Neutrino.0038701.Physics.EH1-Merged.P14A-P._0026.root\n",
      "261585\n",
      "46535\n"
     ]
    }
   ],
   "source": [
    "print can[0]\n",
    "print cant[1]\n",
    "print len(cant)\n",
    "print len(can)"
   ]
  },
  {
   "cell_type": "code",
   "execution_count": 39,
   "metadata": {
    "collapsed": false
   },
   "outputs": [],
   "source": [
    "cant_2014 = [c for c in cant if \"2014\" in c] #.split(\"Neutrino/\")[1].split(\"/recon\")[0]"
   ]
  },
  {
   "cell_type": "code",
   "execution_count": 40,
   "metadata": {
    "collapsed": false
   },
   "outputs": [
    {
     "name": "stdout",
     "output_type": "stream",
     "text": [
      "/project/projectdirs/dayabay/data/exp/dayabay/2014/p14b/Neutrino/0103/recon.Neutrino.0043809.Physics.EH2-Merged.P14B-P._0064.root\n"
     ]
    }
   ],
   "source": [
    "print cant_2014[0]"
   ]
  },
  {
   "cell_type": "code",
   "execution_count": 16,
   "metadata": {
    "collapsed": false
   },
   "outputs": [
    {
     "name": "stdout",
     "output_type": "stream",
     "text": [
      "I cant read files from these years ['2014', '2013', '2012']\n",
      "I can read files from these years ['1970', '2015', '2014', '2011', '2013', '2012']\n"
     ]
    }
   ],
   "source": [
    "print \"I cant read files from these years %s\" % str(list(set([c.split('/')[7] for c in cant ])))\n",
    "print \"I can read files from these years %s\" % str(list(set([c.split('/')[7] for c in can ])))"
   ]
  },
  {
   "cell_type": "code",
   "execution_count": 17,
   "metadata": {
    "collapsed": false
   },
   "outputs": [],
   "source": [
    "can_ids = [get_id(c) for c in can]\n",
    "cant_ids = [get_id(c) for c in cant]"
   ]
  },
  {
   "cell_type": "code",
   "execution_count": 30,
   "metadata": {
    "collapsed": false
   },
   "outputs": [
    {
     "name": "stdout",
     "output_type": "stream",
     "text": [
      "0021367_0092EH1-Merged\n"
     ]
    }
   ],
   "source": [
    "print can_ids[0]"
   ]
  },
  {
   "cell_type": "code",
   "execution_count": 18,
   "metadata": {
    "collapsed": false
   },
   "outputs": [
    {
     "name": "stdout",
     "output_type": "stream",
     "text": [
      "/global/projecta/projectdirs/dayabay/data/exp/dayabay/2013/p14b/Neutrino/ exists\n",
      "/global/projecta/projectdirs/dayabay/data/exp/dayabay/2012/p14a/Neutrino/ exists\n"
     ]
    }
   ],
   "source": [
    "new_base = '/global/projecta/projectdirs/dayabay/data/exp/dayabay/'\n",
    "#old_base = \n",
    "new_2013 = os.path.join(new_base, \"2013/p14b/Neutrino/\")#'/project/projectdirs/dayabay/data/exp/dayabay/2013/p15a/Neutrino/'\n",
    "new_2012 = os.path.join(new_base, \"2012/p14a/Neutrino/\") #'/project/projectdirs/dayabay/data/exp/dayabay/2012/p15a/Neutrino/'\n",
    "#new_2014 = os.path.join(new_base, \"2014/p15a/Neutrino/\")#'/project/projectdirs/dayabay/data/exp/dayabay/2014/p15a/Neutrino/'\n",
    "for path in [new_2013, new_2012]:#, new_2014]:\n",
    "    if os.path.exists(path):\n",
    "        print \"%s exists\" % path\n",
    "    else:\n",
    "        print \"%s don't exist foo\" % path  \n",
    "        \n",
    "    "
   ]
  },
  {
   "cell_type": "code",
   "execution_count": 20,
   "metadata": {
    "collapsed": false
   },
   "outputs": [],
   "source": [
    "new_files_2012 = get_filepaths(new_2012,lambda f: '.root' in f) \n",
    "new_files_2013 = get_filepaths(new_2013,lambda f: '.root' in f) \n",
    "#new_files_2014 = get_filepaths(new_2014,lambda f: '.root' in f) "
   ]
  },
  {
   "cell_type": "code",
   "execution_count": 21,
   "metadata": {
    "collapsed": true
   },
   "outputs": [],
   "source": [
    "new_files = new_files_2013 + new_files_2012# + new_files_2014 "
   ]
  },
  {
   "cell_type": "code",
   "execution_count": 30,
   "metadata": {
    "collapsed": false
   },
   "outputs": [
    {
     "data": {
      "text/plain": [
       "43121"
      ]
     },
     "execution_count": 30,
     "metadata": {},
     "output_type": "execute_result"
    }
   ],
   "source": [
    "new_files[100]\n",
    "len(new_files)\n",
    "#can[0]\n",
    "\n"
   ]
  },
  {
   "cell_type": "code",
   "execution_count": 80,
   "metadata": {
    "collapsed": false
   },
   "outputs": [
    {
     "name": "stdout",
     "output_type": "stream",
     "text": [
      "[]\n"
     ]
    }
   ],
   "source": []
  },
  {
   "cell_type": "code",
   "execution_count": 31,
   "metadata": {
    "collapsed": true
   },
   "outputs": [],
   "source": [
    "new_ids = {get_id(fil): fil for fil in new_files}"
   ]
  },
  {
   "cell_type": "code",
   "execution_count": 32,
   "metadata": {
    "collapsed": true
   },
   "outputs": [],
   "source": [
    "cant_dict = {get_id(f): f for f in cant}"
   ]
  },
  {
   "cell_type": "code",
   "execution_count": 33,
   "metadata": {
    "collapsed": true
   },
   "outputs": [],
   "source": [
    "num_cant = len(cant)\n",
    "num_no_need_to_recov = len(set(can_ids).intersection(set(new_ids.keys())))"
   ]
  },
  {
   "cell_type": "code",
   "execution_count": 34,
   "metadata": {
    "collapsed": true
   },
   "outputs": [],
   "source": [
    "recov = list(set(cant_ids).intersection(set(new_ids.keys())))\n",
    "num_recov = len(recov)"
   ]
  },
  {
   "cell_type": "code",
   "execution_count": 35,
   "metadata": {
    "collapsed": false
   },
   "outputs": [
    {
     "name": "stdout",
     "output_type": "stream",
     "text": [
      "Number of files I can't read: 261585, total recoveredthat were needed: 662. recov that I could already read anyway 42557 \n",
      "Total files on list: 308120, Total files recovered from 2012,2013,2014: 43121, Files recov not on list: -98\n"
     ]
    }
   ],
   "source": [
    "not_recovered = list(set(cant_ids).difference(set(new_ids.keys())))\n",
    "print \"Number of files I can't read: %i, total recoveredthat were needed: %i. recov that I could already read anyway %i \" % (num_cant, num_recov, num_no_need_to_recov)\n",
    "print \"Total files on list: %i, Total files recovered from 2012,2013,2014: \\\n",
    "%i, Files recov not on list: %i\" % (len(content), len(new_files), len(new_files) - num_recov - num_no_need_to_recov)\n",
    "#print not_recovered"
   ]
  },
  {
   "cell_type": "code",
   "execution_count": 36,
   "metadata": {
    "collapsed": false
   },
   "outputs": [
    {
     "ename": "KeyboardInterrupt",
     "evalue": "",
     "output_type": "error",
     "traceback": [
      "\u001b[1;31m---------------------------------------------------------------------------\u001b[0m",
      "\u001b[1;31mKeyboardInterrupt\u001b[0m                         Traceback (most recent call last)",
      "\u001b[1;32m<ipython-input-36-2f7986bc17f0>\u001b[0m in \u001b[0;36m<module>\u001b[1;34m()\u001b[0m\n\u001b[1;32m----> 1\u001b[1;33m \u001b[0mfiles_not_recovered\u001b[0m \u001b[1;33m=\u001b[0m \u001b[1;33m[\u001b[0m\u001b[0mf\u001b[0m \u001b[1;32mfor\u001b[0m \u001b[0mf\u001b[0m \u001b[1;32min\u001b[0m \u001b[0mcant\u001b[0m \u001b[1;32mif\u001b[0m \u001b[0mget_id\u001b[0m\u001b[1;33m(\u001b[0m\u001b[0mf\u001b[0m\u001b[1;33m)\u001b[0m \u001b[1;32min\u001b[0m \u001b[0mnot_recovered\u001b[0m\u001b[1;33m]\u001b[0m\u001b[1;33m\u001b[0m\u001b[0m\n\u001b[0m\u001b[0;32m      2\u001b[0m \u001b[1;32mprint\u001b[0m \u001b[1;34m\"file not recovered: \"\u001b[0m\u001b[1;33m,\u001b[0m \u001b[0mfiles_not_recovered\u001b[0m\u001b[1;33m\u001b[0m\u001b[0m\n\u001b[0;32m      3\u001b[0m \u001b[1;32mprint\u001b[0m \u001b[0mlen\u001b[0m\u001b[1;33m(\u001b[0m\u001b[0mcontent\u001b[0m\u001b[1;33m)\u001b[0m\u001b[1;33m\u001b[0m\u001b[0m\n\u001b[0;32m      4\u001b[0m \u001b[1;32mprint\u001b[0m \u001b[0mlen\u001b[0m\u001b[1;33m(\u001b[0m\u001b[0mnew_ids\u001b[0m\u001b[1;33m)\u001b[0m\u001b[1;33m\u001b[0m\u001b[0m\n",
      "\u001b[1;31mKeyboardInterrupt\u001b[0m: "
     ]
    }
   ],
   "source": [
    "files_not_recovered = [f for f in cant if get_id(f) in not_recovered]\n",
    "print \"file not recovered: \", files_not_recovered\n",
    "print len(content)\n",
    "print len(new_ids)"
   ]
  },
  {
   "cell_type": "code",
   "execution_count": 84,
   "metadata": {
    "collapsed": false
   },
   "outputs": [],
   "source": [
    "files_recovered =  [new_ids[f_id] for f_id in recov]"
   ]
  },
  {
   "cell_type": "code",
   "execution_count": 85,
   "metadata": {
    "collapsed": false
   },
   "outputs": [
    {
     "data": {
      "text/plain": [
       "261585"
      ]
     },
     "execution_count": 85,
     "metadata": {},
     "output_type": "execute_result"
    }
   ],
   "source": [
    "len(files_recovered)"
   ]
  },
  {
   "cell_type": "code",
   "execution_count": 86,
   "metadata": {
    "collapsed": true
   },
   "outputs": [],
   "source": [
    "new_official_list = files_recovered + can"
   ]
  },
  {
   "cell_type": "code",
   "execution_count": 87,
   "metadata": {
    "collapsed": false
   },
   "outputs": [
    {
     "data": {
      "text/plain": [
       "308120"
      ]
     },
     "execution_count": 87,
     "metadata": {},
     "output_type": "execute_result"
    }
   ],
   "source": [
    "len(new_official_list)"
   ]
  },
  {
   "cell_type": "code",
   "execution_count": 88,
   "metadata": {
    "collapsed": false
   },
   "outputs": [],
   "source": [
    "with open('./FileList-14Mar-Recovered-1-2', 'w') as f:\n",
    "    for item in new_official_list:\n",
    "        f.write(\"%s\\n\" % item)"
   ]
  },
  {
   "cell_type": "code",
   "execution_count": 89,
   "metadata": {
    "collapsed": false
   },
   "outputs": [
    {
     "name": "stdout",
     "output_type": "stream",
     "text": [
      "FileList-14Mar-Recovered-1-2  extract_background.ipynb\r\n",
      "FileList-6Oct-Official-1      makedataset_withtime.py\r\n",
      "FileList-6Oct-Official-2      write_new_filelist.ipynb\r\n"
     ]
    }
   ],
   "source": [
    "!ls\n"
   ]
  },
  {
   "cell_type": "code",
   "execution_count": 90,
   "metadata": {
    "collapsed": true
   },
   "outputs": [],
   "source": [
    "with open('./FileList-14Mar-Recovered-1-2', 'r') as f:\n",
    "    test_content = [x.strip('\\n') for x in f.readlines()]"
   ]
  },
  {
   "cell_type": "code",
   "execution_count": 91,
   "metadata": {
    "collapsed": false
   },
   "outputs": [],
   "source": [
    "for i, c in enumerate(test_content):\n",
    "    assert test_content[i] == new_official_list[i], \"Ahhh sopmething went wrong!\""
   ]
  },
  {
   "cell_type": "code",
   "execution_count": null,
   "metadata": {
    "collapsed": true
   },
   "outputs": [],
   "source": []
  }
 ],
 "metadata": {
  "kernelspec": {
   "display_name": "Python 2",
   "language": "python",
   "name": "python2"
  },
  "language_info": {
   "codemirror_mode": {
    "name": "ipython",
    "version": 2
   },
   "file_extension": ".py",
   "mimetype": "text/x-python",
   "name": "python",
   "nbconvert_exporter": "python",
   "pygments_lexer": "ipython2",
   "version": "2.7.10"
  }
 },
 "nbformat": 4,
 "nbformat_minor": 0
}
